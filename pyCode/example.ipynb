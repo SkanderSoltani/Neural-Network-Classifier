{
 "cells": [
  {
   "cell_type": "markdown",
   "metadata": {},
   "source": [
    "## Example:"
   ]
  },
  {
   "cell_type": "code",
   "execution_count": 79,
   "metadata": {},
   "outputs": [
    {
     "name": "stdout",
     "output_type": "stream",
     "text": [
      "Cost after epoch 0: 0.110646\n",
      "Cost after epoch 100: 0.020537\n",
      "Cost after epoch 200: 0.013851\n",
      "Cost after epoch 300: 0.011275\n",
      "Cost after epoch 400: 0.009739\n",
      "Cost after epoch 500: 0.008733\n",
      "Cost after epoch 600: 0.007959\n",
      "Cost after epoch 700: 0.007292\n",
      "Cost after epoch 800: 0.006839\n",
      "Cost after epoch 900: 0.006356\n"
     ]
    }
   ],
   "source": [
    "from LogisticAnn import LogisticAnn\n",
    "import pandas as pd\n",
    "import numpy as np\n",
    "from sklearn.model_selection import train_test_split\n",
    "########################################## Data Processing ####################\n",
    "# Reading Data\n",
    "X = pd.read_csv(\"X.csv\")\n",
    "y = pd.read_csv(\"y.csv\")\n",
    "\n",
    "# Splitting and shuffling observation into train/test (0.7/0.3)\n",
    "X_train,X_test,y_train,y_test = train_test_split(X,y,test_size=0.3,\n",
    "                                                 train_size=0.7,random_state=1,shuffle=True)\n",
    "\n",
    "# framing data into appropriate format\n",
    "X_train = X_train.T.values\n",
    "X_test  = X_test.T.values\n",
    "y_train = y_train.T.values-1\n",
    "y_test  = y_test.T.values-1\n",
    "\n",
    "# Framing y into mx format - not necessary if binomial classification \n",
    "y_train_mx  = AnnLogistic._convertYtoMx(pd.DataFrame(y_train))\n",
    "y_test1_mx  = AnnLogistic._convertYtoMx(pd.DataFrame(y_test))\n",
    "##############################################################################\n",
    "# Designing Neural Networks Dimensions\n",
    "nnDimension = [400,20,10]\n",
    "\n",
    "# Creating a class instance\n",
    "AnnLogistic = LogisticAnn(layerDim=nnDimension)\n",
    "\n",
    "#training the model\n",
    "param,cost = AnnLogistic.fit(X=X_train,Y=y_train_mx,print_cost=True,optimizer=\"adam\",num_epochs=1000)"
   ]
  },
  {
   "cell_type": "code",
   "execution_count": 80,
   "metadata": {},
   "outputs": [],
   "source": [
    "# predicting out of sample\n",
    "y_hat,_ = AnnLogistic.predict(X_test)"
   ]
  },
  {
   "cell_type": "code",
   "execution_count": 81,
   "metadata": {},
   "outputs": [
    {
     "data": {
      "text/plain": [
       "array([8, 7, 5, ..., 3, 7, 1], dtype=int64)"
      ]
     },
     "execution_count": 81,
     "metadata": {},
     "output_type": "execute_result"
    }
   ],
   "source": [
    "y_hat"
   ]
  },
  {
   "cell_type": "code",
   "execution_count": 82,
   "metadata": {},
   "outputs": [
    {
     "data": {
      "text/plain": [
       "array([[8, 7, 5, ..., 3, 1, 1]], dtype=int64)"
      ]
     },
     "execution_count": 82,
     "metadata": {},
     "output_type": "execute_result"
    }
   ],
   "source": [
    "y_test"
   ]
  }
 ],
 "metadata": {
  "kernelspec": {
   "display_name": "Python 3",
   "language": "python",
   "name": "python3"
  },
  "language_info": {
   "codemirror_mode": {
    "name": "ipython",
    "version": 3
   },
   "file_extension": ".py",
   "mimetype": "text/x-python",
   "name": "python",
   "nbconvert_exporter": "python",
   "pygments_lexer": "ipython3",
   "version": "3.6.5"
  }
 },
 "nbformat": 4,
 "nbformat_minor": 2
}
